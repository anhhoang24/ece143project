{
 "cells": [
  {
   "cell_type": "code",
   "execution_count": 2,
   "metadata": {},
   "outputs": [],
   "source": [
    "import pandas as pd\n",
    "import numpy as np"
   ]
  },
  {
   "cell_type": "code",
   "execution_count": 3,
   "metadata": {},
   "outputs": [],
   "source": [
    "df = pd.read_csv(\"pollution_us_2000_2016.csv\")"
   ]
  },
  {
   "cell_type": "code",
   "execution_count": 4,
   "metadata": {},
   "outputs": [
    {
     "name": "stdout",
     "output_type": "stream",
     "text": [
      "<class 'pandas.core.frame.DataFrame'>\n",
      "RangeIndex: 1746661 entries, 0 to 1746660\n",
      "Data columns (total 29 columns):\n",
      "Unnamed: 0           int64\n",
      "State Code           int64\n",
      "County Code          int64\n",
      "Site Num             int64\n",
      "Address              object\n",
      "State                object\n",
      "County               object\n",
      "City                 object\n",
      "Date Local           object\n",
      "NO2 Units            object\n",
      "NO2 Mean             float64\n",
      "NO2 1st Max Value    float64\n",
      "NO2 1st Max Hour     int64\n",
      "NO2 AQI              int64\n",
      "O3 Units             object\n",
      "O3 Mean              float64\n",
      "O3 1st Max Value     float64\n",
      "O3 1st Max Hour      int64\n",
      "O3 AQI               int64\n",
      "SO2 Units            object\n",
      "SO2 Mean             float64\n",
      "SO2 1st Max Value    float64\n",
      "SO2 1st Max Hour     int64\n",
      "SO2 AQI              float64\n",
      "CO Units             object\n",
      "CO Mean              float64\n",
      "CO 1st Max Value     float64\n",
      "CO 1st Max Hour      int64\n",
      "CO AQI               float64\n",
      "dtypes: float64(10), int64(10), object(9)\n",
      "memory usage: 386.5+ MB\n"
     ]
    }
   ],
   "source": [
    "df.info()"
   ]
  },
  {
   "cell_type": "code",
   "execution_count": 5,
   "metadata": {},
   "outputs": [
    {
     "data": {
      "text/html": [
       "<div>\n",
       "<style scoped>\n",
       "    .dataframe tbody tr th:only-of-type {\n",
       "        vertical-align: middle;\n",
       "    }\n",
       "\n",
       "    .dataframe tbody tr th {\n",
       "        vertical-align: top;\n",
       "    }\n",
       "\n",
       "    .dataframe thead th {\n",
       "        text-align: right;\n",
       "    }\n",
       "</style>\n",
       "<table border=\"1\" class=\"dataframe\">\n",
       "  <thead>\n",
       "    <tr style=\"text-align: right;\">\n",
       "      <th></th>\n",
       "      <th>Unnamed: 0</th>\n",
       "      <th>State Code</th>\n",
       "      <th>County Code</th>\n",
       "      <th>Site Num</th>\n",
       "      <th>NO2 Mean</th>\n",
       "      <th>NO2 1st Max Value</th>\n",
       "      <th>NO2 1st Max Hour</th>\n",
       "      <th>NO2 AQI</th>\n",
       "      <th>O3 Mean</th>\n",
       "      <th>O3 1st Max Value</th>\n",
       "      <th>O3 1st Max Hour</th>\n",
       "      <th>O3 AQI</th>\n",
       "      <th>SO2 Mean</th>\n",
       "      <th>SO2 1st Max Value</th>\n",
       "      <th>SO2 1st Max Hour</th>\n",
       "      <th>SO2 AQI</th>\n",
       "      <th>CO Mean</th>\n",
       "      <th>CO 1st Max Value</th>\n",
       "      <th>CO 1st Max Hour</th>\n",
       "      <th>CO AQI</th>\n",
       "    </tr>\n",
       "  </thead>\n",
       "  <tbody>\n",
       "    <tr>\n",
       "      <th>count</th>\n",
       "      <td>1.746661e+06</td>\n",
       "      <td>1.746661e+06</td>\n",
       "      <td>1.746661e+06</td>\n",
       "      <td>1.746661e+06</td>\n",
       "      <td>1.746661e+06</td>\n",
       "      <td>1.746661e+06</td>\n",
       "      <td>1.746661e+06</td>\n",
       "      <td>1.746661e+06</td>\n",
       "      <td>1.746661e+06</td>\n",
       "      <td>1.746661e+06</td>\n",
       "      <td>1.746661e+06</td>\n",
       "      <td>1.746661e+06</td>\n",
       "      <td>1.746661e+06</td>\n",
       "      <td>1.746661e+06</td>\n",
       "      <td>1.746661e+06</td>\n",
       "      <td>873754.000000</td>\n",
       "      <td>1.746661e+06</td>\n",
       "      <td>1.746661e+06</td>\n",
       "      <td>1.746661e+06</td>\n",
       "      <td>873338.000000</td>\n",
       "    </tr>\n",
       "    <tr>\n",
       "      <th>mean</th>\n",
       "      <td>5.471414e+04</td>\n",
       "      <td>2.230907e+01</td>\n",
       "      <td>7.169381e+01</td>\n",
       "      <td>1.118214e+03</td>\n",
       "      <td>1.282193e+01</td>\n",
       "      <td>2.541485e+01</td>\n",
       "      <td>1.173102e+01</td>\n",
       "      <td>2.389822e+01</td>\n",
       "      <td>2.612485e-02</td>\n",
       "      <td>3.920331e-02</td>\n",
       "      <td>1.017053e+01</td>\n",
       "      <td>3.605012e+01</td>\n",
       "      <td>1.870364e+00</td>\n",
       "      <td>4.492185e+00</td>\n",
       "      <td>9.664906e+00</td>\n",
       "      <td>7.115945</td>\n",
       "      <td>3.682177e-01</td>\n",
       "      <td>6.201067e-01</td>\n",
       "      <td>7.875026e+00</td>\n",
       "      <td>5.996595</td>\n",
       "    </tr>\n",
       "    <tr>\n",
       "      <th>std</th>\n",
       "      <td>3.372908e+04</td>\n",
       "      <td>1.725621e+01</td>\n",
       "      <td>7.948023e+01</td>\n",
       "      <td>2.003103e+03</td>\n",
       "      <td>9.504814e+00</td>\n",
       "      <td>1.599963e+01</td>\n",
       "      <td>7.877501e+00</td>\n",
       "      <td>1.516280e+01</td>\n",
       "      <td>1.136974e-02</td>\n",
       "      <td>1.534362e-02</td>\n",
       "      <td>4.003144e+00</td>\n",
       "      <td>1.978042e+01</td>\n",
       "      <td>2.760435e+00</td>\n",
       "      <td>7.679866e+00</td>\n",
       "      <td>6.731228e+00</td>\n",
       "      <td>11.937473</td>\n",
       "      <td>3.140231e-01</td>\n",
       "      <td>6.439361e-01</td>\n",
       "      <td>7.978844e+00</td>\n",
       "      <td>5.851836</td>\n",
       "    </tr>\n",
       "    <tr>\n",
       "      <th>min</th>\n",
       "      <td>0.000000e+00</td>\n",
       "      <td>1.000000e+00</td>\n",
       "      <td>1.000000e+00</td>\n",
       "      <td>1.000000e+00</td>\n",
       "      <td>-2.000000e+00</td>\n",
       "      <td>-2.000000e+00</td>\n",
       "      <td>0.000000e+00</td>\n",
       "      <td>0.000000e+00</td>\n",
       "      <td>0.000000e+00</td>\n",
       "      <td>0.000000e+00</td>\n",
       "      <td>0.000000e+00</td>\n",
       "      <td>0.000000e+00</td>\n",
       "      <td>-2.000000e+00</td>\n",
       "      <td>-2.000000e+00</td>\n",
       "      <td>0.000000e+00</td>\n",
       "      <td>0.000000</td>\n",
       "      <td>-4.375000e-01</td>\n",
       "      <td>-4.000000e-01</td>\n",
       "      <td>0.000000e+00</td>\n",
       "      <td>0.000000</td>\n",
       "    </tr>\n",
       "    <tr>\n",
       "      <th>25%</th>\n",
       "      <td>2.575300e+04</td>\n",
       "      <td>6.000000e+00</td>\n",
       "      <td>1.700000e+01</td>\n",
       "      <td>9.000000e+00</td>\n",
       "      <td>5.750000e+00</td>\n",
       "      <td>1.300000e+01</td>\n",
       "      <td>5.000000e+00</td>\n",
       "      <td>1.200000e+01</td>\n",
       "      <td>1.787500e-02</td>\n",
       "      <td>2.900000e-02</td>\n",
       "      <td>9.000000e+00</td>\n",
       "      <td>2.500000e+01</td>\n",
       "      <td>2.565220e-01</td>\n",
       "      <td>8.000000e-01</td>\n",
       "      <td>5.000000e+00</td>\n",
       "      <td>1.000000</td>\n",
       "      <td>1.834580e-01</td>\n",
       "      <td>2.920000e-01</td>\n",
       "      <td>0.000000e+00</td>\n",
       "      <td>2.000000</td>\n",
       "    </tr>\n",
       "    <tr>\n",
       "      <th>50%</th>\n",
       "      <td>5.304500e+04</td>\n",
       "      <td>1.700000e+01</td>\n",
       "      <td>5.900000e+01</td>\n",
       "      <td>6.000000e+01</td>\n",
       "      <td>1.073913e+01</td>\n",
       "      <td>2.400000e+01</td>\n",
       "      <td>9.000000e+00</td>\n",
       "      <td>2.300000e+01</td>\n",
       "      <td>2.587500e-02</td>\n",
       "      <td>3.800000e-02</td>\n",
       "      <td>1.000000e+01</td>\n",
       "      <td>3.300000e+01</td>\n",
       "      <td>9.875000e-01</td>\n",
       "      <td>2.000000e+00</td>\n",
       "      <td>8.000000e+00</td>\n",
       "      <td>3.000000</td>\n",
       "      <td>2.926250e-01</td>\n",
       "      <td>4.000000e-01</td>\n",
       "      <td>6.000000e+00</td>\n",
       "      <td>5.000000</td>\n",
       "    </tr>\n",
       "    <tr>\n",
       "      <th>75%</th>\n",
       "      <td>8.033600e+04</td>\n",
       "      <td>4.000000e+01</td>\n",
       "      <td>9.700000e+01</td>\n",
       "      <td>1.039000e+03</td>\n",
       "      <td>1.771364e+01</td>\n",
       "      <td>3.570000e+01</td>\n",
       "      <td>2.000000e+01</td>\n",
       "      <td>3.300000e+01</td>\n",
       "      <td>3.391700e-02</td>\n",
       "      <td>4.800000e-02</td>\n",
       "      <td>1.100000e+01</td>\n",
       "      <td>4.200000e+01</td>\n",
       "      <td>2.325000e+00</td>\n",
       "      <td>5.000000e+00</td>\n",
       "      <td>1.400000e+01</td>\n",
       "      <td>9.000000</td>\n",
       "      <td>4.666670e-01</td>\n",
       "      <td>8.000000e-01</td>\n",
       "      <td>1.300000e+01</td>\n",
       "      <td>8.000000</td>\n",
       "    </tr>\n",
       "    <tr>\n",
       "      <th>max</th>\n",
       "      <td>1.345750e+05</td>\n",
       "      <td>8.000000e+01</td>\n",
       "      <td>6.500000e+02</td>\n",
       "      <td>9.997000e+03</td>\n",
       "      <td>1.395417e+02</td>\n",
       "      <td>2.670000e+02</td>\n",
       "      <td>2.300000e+01</td>\n",
       "      <td>1.320000e+02</td>\n",
       "      <td>9.508300e-02</td>\n",
       "      <td>1.410000e-01</td>\n",
       "      <td>2.300000e+01</td>\n",
       "      <td>2.180000e+02</td>\n",
       "      <td>3.216250e+02</td>\n",
       "      <td>3.510000e+02</td>\n",
       "      <td>2.300000e+01</td>\n",
       "      <td>200.000000</td>\n",
       "      <td>7.508333e+00</td>\n",
       "      <td>1.990000e+01</td>\n",
       "      <td>2.300000e+01</td>\n",
       "      <td>201.000000</td>\n",
       "    </tr>\n",
       "  </tbody>\n",
       "</table>\n",
       "</div>"
      ],
      "text/plain": [
       "         Unnamed: 0    State Code   County Code      Site Num      NO2 Mean  \\\n",
       "count  1.746661e+06  1.746661e+06  1.746661e+06  1.746661e+06  1.746661e+06   \n",
       "mean   5.471414e+04  2.230907e+01  7.169381e+01  1.118214e+03  1.282193e+01   \n",
       "std    3.372908e+04  1.725621e+01  7.948023e+01  2.003103e+03  9.504814e+00   \n",
       "min    0.000000e+00  1.000000e+00  1.000000e+00  1.000000e+00 -2.000000e+00   \n",
       "25%    2.575300e+04  6.000000e+00  1.700000e+01  9.000000e+00  5.750000e+00   \n",
       "50%    5.304500e+04  1.700000e+01  5.900000e+01  6.000000e+01  1.073913e+01   \n",
       "75%    8.033600e+04  4.000000e+01  9.700000e+01  1.039000e+03  1.771364e+01   \n",
       "max    1.345750e+05  8.000000e+01  6.500000e+02  9.997000e+03  1.395417e+02   \n",
       "\n",
       "       NO2 1st Max Value  NO2 1st Max Hour       NO2 AQI       O3 Mean  \\\n",
       "count       1.746661e+06      1.746661e+06  1.746661e+06  1.746661e+06   \n",
       "mean        2.541485e+01      1.173102e+01  2.389822e+01  2.612485e-02   \n",
       "std         1.599963e+01      7.877501e+00  1.516280e+01  1.136974e-02   \n",
       "min        -2.000000e+00      0.000000e+00  0.000000e+00  0.000000e+00   \n",
       "25%         1.300000e+01      5.000000e+00  1.200000e+01  1.787500e-02   \n",
       "50%         2.400000e+01      9.000000e+00  2.300000e+01  2.587500e-02   \n",
       "75%         3.570000e+01      2.000000e+01  3.300000e+01  3.391700e-02   \n",
       "max         2.670000e+02      2.300000e+01  1.320000e+02  9.508300e-02   \n",
       "\n",
       "       O3 1st Max Value  O3 1st Max Hour        O3 AQI      SO2 Mean  \\\n",
       "count      1.746661e+06     1.746661e+06  1.746661e+06  1.746661e+06   \n",
       "mean       3.920331e-02     1.017053e+01  3.605012e+01  1.870364e+00   \n",
       "std        1.534362e-02     4.003144e+00  1.978042e+01  2.760435e+00   \n",
       "min        0.000000e+00     0.000000e+00  0.000000e+00 -2.000000e+00   \n",
       "25%        2.900000e-02     9.000000e+00  2.500000e+01  2.565220e-01   \n",
       "50%        3.800000e-02     1.000000e+01  3.300000e+01  9.875000e-01   \n",
       "75%        4.800000e-02     1.100000e+01  4.200000e+01  2.325000e+00   \n",
       "max        1.410000e-01     2.300000e+01  2.180000e+02  3.216250e+02   \n",
       "\n",
       "       SO2 1st Max Value  SO2 1st Max Hour        SO2 AQI       CO Mean  \\\n",
       "count       1.746661e+06      1.746661e+06  873754.000000  1.746661e+06   \n",
       "mean        4.492185e+00      9.664906e+00       7.115945  3.682177e-01   \n",
       "std         7.679866e+00      6.731228e+00      11.937473  3.140231e-01   \n",
       "min        -2.000000e+00      0.000000e+00       0.000000 -4.375000e-01   \n",
       "25%         8.000000e-01      5.000000e+00       1.000000  1.834580e-01   \n",
       "50%         2.000000e+00      8.000000e+00       3.000000  2.926250e-01   \n",
       "75%         5.000000e+00      1.400000e+01       9.000000  4.666670e-01   \n",
       "max         3.510000e+02      2.300000e+01     200.000000  7.508333e+00   \n",
       "\n",
       "       CO 1st Max Value  CO 1st Max Hour         CO AQI  \n",
       "count      1.746661e+06     1.746661e+06  873338.000000  \n",
       "mean       6.201067e-01     7.875026e+00       5.996595  \n",
       "std        6.439361e-01     7.978844e+00       5.851836  \n",
       "min       -4.000000e-01     0.000000e+00       0.000000  \n",
       "25%        2.920000e-01     0.000000e+00       2.000000  \n",
       "50%        4.000000e-01     6.000000e+00       5.000000  \n",
       "75%        8.000000e-01     1.300000e+01       8.000000  \n",
       "max        1.990000e+01     2.300000e+01     201.000000  "
      ]
     },
     "execution_count": 5,
     "metadata": {},
     "output_type": "execute_result"
    }
   ],
   "source": [
    "df.describe()"
   ]
  },
  {
   "cell_type": "code",
   "execution_count": 6,
   "metadata": {},
   "outputs": [
    {
     "data": {
      "text/html": [
       "<div>\n",
       "<style scoped>\n",
       "    .dataframe tbody tr th:only-of-type {\n",
       "        vertical-align: middle;\n",
       "    }\n",
       "\n",
       "    .dataframe tbody tr th {\n",
       "        vertical-align: top;\n",
       "    }\n",
       "\n",
       "    .dataframe thead th {\n",
       "        text-align: right;\n",
       "    }\n",
       "</style>\n",
       "<table border=\"1\" class=\"dataframe\">\n",
       "  <thead>\n",
       "    <tr style=\"text-align: right;\">\n",
       "      <th></th>\n",
       "      <th>Unnamed: 0</th>\n",
       "      <th>State Code</th>\n",
       "      <th>County Code</th>\n",
       "      <th>Site Num</th>\n",
       "      <th>Address</th>\n",
       "      <th>State</th>\n",
       "      <th>County</th>\n",
       "      <th>City</th>\n",
       "      <th>Date Local</th>\n",
       "      <th>NO2 Units</th>\n",
       "      <th>...</th>\n",
       "      <th>SO2 Units</th>\n",
       "      <th>SO2 Mean</th>\n",
       "      <th>SO2 1st Max Value</th>\n",
       "      <th>SO2 1st Max Hour</th>\n",
       "      <th>SO2 AQI</th>\n",
       "      <th>CO Units</th>\n",
       "      <th>CO Mean</th>\n",
       "      <th>CO 1st Max Value</th>\n",
       "      <th>CO 1st Max Hour</th>\n",
       "      <th>CO AQI</th>\n",
       "    </tr>\n",
       "  </thead>\n",
       "  <tbody>\n",
       "    <tr>\n",
       "      <th>0</th>\n",
       "      <td>0</td>\n",
       "      <td>4</td>\n",
       "      <td>13</td>\n",
       "      <td>3002</td>\n",
       "      <td>1645 E ROOSEVELT ST-CENTRAL PHOENIX STN</td>\n",
       "      <td>Arizona</td>\n",
       "      <td>Maricopa</td>\n",
       "      <td>Phoenix</td>\n",
       "      <td>2000-01-01</td>\n",
       "      <td>Parts per billion</td>\n",
       "      <td>...</td>\n",
       "      <td>Parts per billion</td>\n",
       "      <td>3.000</td>\n",
       "      <td>9.0</td>\n",
       "      <td>21</td>\n",
       "      <td>13.0</td>\n",
       "      <td>Parts per million</td>\n",
       "      <td>1.145833</td>\n",
       "      <td>4.2</td>\n",
       "      <td>21</td>\n",
       "      <td>NaN</td>\n",
       "    </tr>\n",
       "    <tr>\n",
       "      <th>1</th>\n",
       "      <td>1</td>\n",
       "      <td>4</td>\n",
       "      <td>13</td>\n",
       "      <td>3002</td>\n",
       "      <td>1645 E ROOSEVELT ST-CENTRAL PHOENIX STN</td>\n",
       "      <td>Arizona</td>\n",
       "      <td>Maricopa</td>\n",
       "      <td>Phoenix</td>\n",
       "      <td>2000-01-01</td>\n",
       "      <td>Parts per billion</td>\n",
       "      <td>...</td>\n",
       "      <td>Parts per billion</td>\n",
       "      <td>3.000</td>\n",
       "      <td>9.0</td>\n",
       "      <td>21</td>\n",
       "      <td>13.0</td>\n",
       "      <td>Parts per million</td>\n",
       "      <td>0.878947</td>\n",
       "      <td>2.2</td>\n",
       "      <td>23</td>\n",
       "      <td>25.0</td>\n",
       "    </tr>\n",
       "    <tr>\n",
       "      <th>2</th>\n",
       "      <td>2</td>\n",
       "      <td>4</td>\n",
       "      <td>13</td>\n",
       "      <td>3002</td>\n",
       "      <td>1645 E ROOSEVELT ST-CENTRAL PHOENIX STN</td>\n",
       "      <td>Arizona</td>\n",
       "      <td>Maricopa</td>\n",
       "      <td>Phoenix</td>\n",
       "      <td>2000-01-01</td>\n",
       "      <td>Parts per billion</td>\n",
       "      <td>...</td>\n",
       "      <td>Parts per billion</td>\n",
       "      <td>2.975</td>\n",
       "      <td>6.6</td>\n",
       "      <td>23</td>\n",
       "      <td>NaN</td>\n",
       "      <td>Parts per million</td>\n",
       "      <td>1.145833</td>\n",
       "      <td>4.2</td>\n",
       "      <td>21</td>\n",
       "      <td>NaN</td>\n",
       "    </tr>\n",
       "  </tbody>\n",
       "</table>\n",
       "<p>3 rows × 29 columns</p>\n",
       "</div>"
      ],
      "text/plain": [
       "   Unnamed: 0  State Code  County Code  Site Num  \\\n",
       "0           0           4           13      3002   \n",
       "1           1           4           13      3002   \n",
       "2           2           4           13      3002   \n",
       "\n",
       "                                   Address    State    County     City  \\\n",
       "0  1645 E ROOSEVELT ST-CENTRAL PHOENIX STN  Arizona  Maricopa  Phoenix   \n",
       "1  1645 E ROOSEVELT ST-CENTRAL PHOENIX STN  Arizona  Maricopa  Phoenix   \n",
       "2  1645 E ROOSEVELT ST-CENTRAL PHOENIX STN  Arizona  Maricopa  Phoenix   \n",
       "\n",
       "   Date Local          NO2 Units  ...            SO2 Units  SO2 Mean  \\\n",
       "0  2000-01-01  Parts per billion  ...    Parts per billion     3.000   \n",
       "1  2000-01-01  Parts per billion  ...    Parts per billion     3.000   \n",
       "2  2000-01-01  Parts per billion  ...    Parts per billion     2.975   \n",
       "\n",
       "   SO2 1st Max Value  SO2 1st Max Hour SO2 AQI           CO Units   CO Mean  \\\n",
       "0                9.0                21    13.0  Parts per million  1.145833   \n",
       "1                9.0                21    13.0  Parts per million  0.878947   \n",
       "2                6.6                23     NaN  Parts per million  1.145833   \n",
       "\n",
       "   CO 1st Max Value  CO 1st Max Hour CO AQI  \n",
       "0               4.2               21    NaN  \n",
       "1               2.2               23   25.0  \n",
       "2               4.2               21    NaN  \n",
       "\n",
       "[3 rows x 29 columns]"
      ]
     },
     "execution_count": 6,
     "metadata": {},
     "output_type": "execute_result"
    }
   ],
   "source": [
    "df.head(3)"
   ]
  },
  {
   "cell_type": "code",
   "execution_count": 7,
   "metadata": {},
   "outputs": [],
   "source": [
    "NO2 = ['NO2 Units','NO2 Mean','NO2 1st Max Value','NO2 1st Max Hour','NO2 AQI']"
   ]
  },
  {
   "cell_type": "code",
   "execution_count": 8,
   "metadata": {},
   "outputs": [],
   "source": [
    "O3 = ['O3 Units','O3 Mean','O3 1st Max Value','O3 1st Max Hour','O3 AQI']"
   ]
  },
  {
   "cell_type": "code",
   "execution_count": 9,
   "metadata": {},
   "outputs": [],
   "source": [
    "CO = ['CO Units','CO Mean','CO 1st Max Value','CO 1st Max Hour','CO AQI']"
   ]
  },
  {
   "cell_type": "code",
   "execution_count": 10,
   "metadata": {},
   "outputs": [],
   "source": [
    "SO2 = ['SO2 Units','SO2 Mean','SO2 1st Max Value','SO2 1st Max Hour','SO2 AQI']"
   ]
  },
  {
   "cell_type": "code",
   "execution_count": 11,
   "metadata": {},
   "outputs": [],
   "source": [
    "#df.State.groupby(df.State).count()"
   ]
  },
  {
   "cell_type": "code",
   "execution_count": 12,
   "metadata": {},
   "outputs": [],
   "source": [
    "CA_df =  df.loc[df.State == 'California']"
   ]
  },
  {
   "cell_type": "code",
   "execution_count": 13,
   "metadata": {},
   "outputs": [],
   "source": [
    "SD_df = df.loc[df.County == \"San Diego\"]"
   ]
  },
  {
   "cell_type": "markdown",
   "metadata": {},
   "source": [
    "# Air Quality Index (AQI) Basics, EPA\n",
    "https://cfpub.epa.gov/airnow/index.cfm?action=aqibasics.aqi <br>\n",
    "0 to 50\tGood\t\n",
    "51 to 100\tModerate\t\n",
    "101 to 150\tUnhealthy for Sensitive Groups\t\n",
    "151 to 200\tUnhealthy\t\n",
    "201 to 300\tVery Unhealthy\t\n",
    "301 to 500\tHazardous\t"
   ]
  },
  {
   "cell_type": "code",
   "execution_count": 14,
   "metadata": {},
   "outputs": [
    {
     "data": {
      "text/plain": [
       "array([[46, 46, 46, ...,  1,  1,  1]], dtype=int64)"
      ]
     },
     "execution_count": 14,
     "metadata": {},
     "output_type": "execute_result"
    }
   ],
   "source": [
    "NO2_AQI = df['NO2 AQI'].values\n",
    "NO2_AQI.reshape(1,1746661)"
   ]
  },
  {
   "cell_type": "code",
   "execution_count": 15,
   "metadata": {},
   "outputs": [
    {
     "data": {
      "text/plain": [
       "array([[34, 34, 34, ..., 44, 44, 44]], dtype=int64)"
      ]
     },
     "execution_count": 15,
     "metadata": {},
     "output_type": "execute_result"
    }
   ],
   "source": [
    "O3_AQI = df['O3 AQI'].values\n",
    "O3_AQI.reshape(1,1746661)"
   ]
  },
  {
   "cell_type": "code",
   "execution_count": 16,
   "metadata": {},
   "outputs": [
    {
     "data": {
      "text/plain": [
       "array([[nan, 25., nan, ...,  1., nan,  1.]])"
      ]
     },
     "execution_count": 16,
     "metadata": {},
     "output_type": "execute_result"
    }
   ],
   "source": [
    "CO_AQI = df['CO AQI'].values\n",
    "CO_AQI.reshape(1,1746661)"
   ]
  },
  {
   "cell_type": "code",
   "execution_count": 17,
   "metadata": {},
   "outputs": [
    {
     "data": {
      "text/plain": [
       "array([[13., 13., nan, ...,  0., nan, nan]])"
      ]
     },
     "execution_count": 17,
     "metadata": {},
     "output_type": "execute_result"
    }
   ],
   "source": [
    "SO2_AQI = df['SO2 AQI'].values\n",
    "SO2_AQI.reshape(1,1746661)"
   ]
  },
  {
   "cell_type": "code",
   "execution_count": 18,
   "metadata": {},
   "outputs": [
    {
     "data": {
      "text/plain": [
       "array([[46., 46., 46., ...,  1.,  1.,  1.],\n",
       "       [34., 34., 34., ..., 44., 44., 44.],\n",
       "       [nan, 25., nan, ...,  1., nan,  1.],\n",
       "       [13., 13., nan, ...,  0., nan, nan]])"
      ]
     },
     "execution_count": 18,
     "metadata": {},
     "output_type": "execute_result"
    }
   ],
   "source": [
    "all_air = np.vstack((NO2_AQI,O3_AQI,CO_AQI,SO2_AQI))\n",
    "all_air"
   ]
  },
  {
   "cell_type": "code",
   "execution_count": 19,
   "metadata": {},
   "outputs": [],
   "source": [
    "all_air = np.nan_to_num(all_air)"
   ]
  },
  {
   "cell_type": "code",
   "execution_count": 20,
   "metadata": {},
   "outputs": [],
   "source": [
    "max_AQI = np.nanmax(all_air, axis = 0)"
   ]
  },
  {
   "cell_type": "code",
   "execution_count": 21,
   "metadata": {},
   "outputs": [],
   "source": [
    "df['MAX_AQI'] = pd.DataFrame(max_AQI) "
   ]
  },
  {
   "cell_type": "code",
   "execution_count": 22,
   "metadata": {},
   "outputs": [],
   "source": [
    "df['EPA'] = 'm'"
   ]
  },
  {
   "cell_type": "code",
   "execution_count": 23,
   "metadata": {},
   "outputs": [],
   "source": [
    "df.loc[(df.MAX_AQI<=50.0) & (df.MAX_AQI>=0.0), ['EPA']] = 'Good'\n",
    "df.loc[(df.MAX_AQI>50.0) & (df.MAX_AQI<=100.0), ['EPA']] = 'Moderate'\n",
    "df.loc[(df.MAX_AQI>100.0) & (df.MAX_AQI<=150.0), ['EPA']] = 'Unhealthy for Sensitive Groups'\n",
    "df.loc[(df.MAX_AQI>150.0) & (df.MAX_AQI<=200.0), ['EPA']] = 'Unhealthy'\n",
    "df.loc[(df.MAX_AQI>200.0) & (df.MAX_AQI<=300.0), ['EPA']] = 'Very Unhealthy'\n",
    "df.loc[(df.MAX_AQI>300.0) & (df.MAX_AQI<=500.0), ['EPA']] = 'Hazardous'"
   ]
  },
  {
   "cell_type": "code",
   "execution_count": 24,
   "metadata": {},
   "outputs": [
    {
     "data": {
      "text/plain": [
       "EPA\n",
       "Good                              1482671\n",
       "Moderate                           225287\n",
       "Unhealthy                            3722\n",
       "Unhealthy for Sensitive Groups      34707\n",
       "Very Unhealthy                        274\n",
       "Name: EPA, dtype: int64"
      ]
     },
     "execution_count": 24,
     "metadata": {},
     "output_type": "execute_result"
    }
   ],
   "source": [
    "df.groupby(['EPA'])['EPA'].count()"
   ]
  },
  {
   "cell_type": "code",
   "execution_count": 25,
   "metadata": {},
   "outputs": [
    {
     "data": {
      "text/plain": [
       "State              EPA                           \n",
       "Alabama            Good                                2818\n",
       "                   Moderate                             284\n",
       "                   Unhealthy for Sensitive Groups        24\n",
       "Alaska             Good                                1916\n",
       "                   Moderate                              58\n",
       "Arizona            Good                               52534\n",
       "                   Moderate                           16528\n",
       "                   Unhealthy for Sensitive Groups       778\n",
       "Arkansas           Good                               32222\n",
       "                   Moderate                            2958\n",
       "                   Unhealthy for Sensitive Groups       152\n",
       "California         Good                              490380\n",
       "                   Moderate                           70198\n",
       "                   Unhealthy                           1870\n",
       "                   Unhealthy for Sensitive Groups     13576\n",
       "                   Very Unhealthy                       118\n",
       "Colorado           Good                               26366\n",
       "                   Moderate                            8509\n",
       "                   Unhealthy                              2\n",
       "                   Unhealthy for Sensitive Groups       311\n",
       "Connecticut        Good                               26585\n",
       "                   Moderate                            2698\n",
       "                   Unhealthy                             48\n",
       "                   Unhealthy for Sensitive Groups       602\n",
       "Country Of Mexico  Good                                7024\n",
       "                   Moderate                            2160\n",
       "                   Unhealthy                             16\n",
       "                   Unhealthy for Sensitive Groups       302\n",
       "                   Very Unhealthy                         4\n",
       "Delaware           Good                                3148\n",
       "                                                      ...  \n",
       "South Carolina     Good                                5886\n",
       "                   Moderate                             616\n",
       "                   Unhealthy for Sensitive Groups        34\n",
       "South Dakota       Good                                7700\n",
       "                   Moderate                             600\n",
       "                   Unhealthy for Sensitive Groups        16\n",
       "Tennessee          Good                                4764\n",
       "                   Moderate                             802\n",
       "                   Unhealthy                             36\n",
       "                   Unhealthy for Sensitive Groups       240\n",
       "Texas              Good                              106300\n",
       "                   Moderate                           14808\n",
       "                   Unhealthy                            190\n",
       "                   Unhealthy for Sensitive Groups      1870\n",
       "                   Very Unhealthy                        40\n",
       "Utah               Good                                6782\n",
       "                   Moderate                            1678\n",
       "                   Unhealthy                              8\n",
       "                   Unhealthy for Sensitive Groups       200\n",
       "Virginia           Good                               30762\n",
       "                   Moderate                            4912\n",
       "                   Unhealthy                             48\n",
       "                   Unhealthy for Sensitive Groups       696\n",
       "                   Very Unhealthy                         4\n",
       "Washington         Good                                 958\n",
       "                   Moderate                               4\n",
       "Wisconsin          Good                                1460\n",
       "                   Moderate                              56\n",
       "Wyoming            Good                               11516\n",
       "                   Moderate                            1532\n",
       "Name: EPA, Length: 169, dtype: int64"
      ]
     },
     "execution_count": 25,
     "metadata": {},
     "output_type": "execute_result"
    }
   ],
   "source": [
    "df.groupby(['State','EPA'])['EPA'].count()"
   ]
  },
  {
   "cell_type": "code",
   "execution_count": 26,
   "metadata": {},
   "outputs": [
    {
     "data": {
      "image/png": "[encoded data removed]",
      "text/plain": [
       "<Figure size 432x288 with 1 Axes>"
      ]
     },
     "metadata": {
      "needs_background": "light"
     },
     "output_type": "display_data"
    }
   ],
   "source": [
    "import pandas as pd\n",
    "import matplotlib.pyplot as plt\n",
    "%matplotlib inline\n",
    "\n",
    "\n",
    "df_demographics=df.groupby(['EPA'])['EPA'].count()\n",
    "df_demographics.plot.bar()\n",
    "plt.show()\n"
   ]
  },
  {
   "cell_type": "code",
   "execution_count": 27,
   "metadata": {},
   "outputs": [
    {
     "data": {
      "text/plain": [
       "<matplotlib.axes._subplots.AxesSubplot at 0x2c041ce18d0>"
      ]
     },
     "execution_count": 27,
     "metadata": {},
     "output_type": "execute_result"
    },
    {
     "data": {
      "image/png": "[encoded data removed]",
      "text/plain": [
       "<Figure size 1440x720 with 1 Axes>"
      ]
     },
     "metadata": {
      "needs_background": "light"
     },
     "output_type": "display_data"
    }
   ],
   "source": [
    "import pandas as pd\n",
    "import matplotlib.pyplot as plt\n",
    "%matplotlib inline\n",
    "\n",
    "\n",
    "df_demographics=df.groupby(['State'])['EPA'].count()\n",
    "df_demographics.plot.bar(figsize=(20,10))"
   ]
  },
  {
   "cell_type": "code",
   "execution_count": 28,
   "metadata": {},
   "outputs": [
    {
     "data": {
      "text/plain": [
       "<matplotlib.axes._subplots.AxesSubplot at 0x2c02263e470>"
      ]
     },
     "execution_count": 28,
     "metadata": {},
     "output_type": "execute_result"
    },
    {
     "data": {
      "image/png": "[encoded data removed]",
      "text/plain": [
       "<Figure size 1440x720 with 1 Axes>"
      ]
     },
     "metadata": {
      "needs_background": "light"
     },
     "output_type": "display_data"
    }
   ],
   "source": [
    "import pandas as pd\n",
    "import matplotlib.pyplot as plt\n",
    "%matplotlib inline\n",
    "\n",
    "\n",
    "df_history=df.groupby(['Date Local'])['EPA'].count()\n",
    "df_history.plot.bar(figsize=(20,10))"
   ]
  },
  {
   "cell_type": "code",
   "execution_count": 29,
   "metadata": {},
   "outputs": [
    {
     "data": {
      "text/plain": [
       "<matplotlib.axes._subplots.AxesSubplot at 0x2c02227aac8>"
      ]
     },
     "execution_count": 29,
     "metadata": {},
     "output_type": "execute_result"
    },
    {
     "data": {
      "image/png": "[encoded data removed]",
      "text/plain": [
       "<Figure size 2880x720 with 1 Axes>"
      ]
     },
     "metadata": {
      "needs_background": "light"
     },
     "output_type": "display_data"
    }
   ],
   "source": [
    "df_history.plot.bar(figsize=(40,10))"
   ]
  },
  {
   "cell_type": "code",
   "execution_count": 30,
   "metadata": {},
   "outputs": [
    {
     "data": {
      "text/plain": [
       "Date Local  EPA                           \n",
       "2000-01-01  Good                              138\n",
       "            Moderate                           14\n",
       "            Unhealthy for Sensitive Groups      4\n",
       "2000-01-02  Good                              144\n",
       "            Moderate                            8\n",
       "2000-01-03  Good                              128\n",
       "            Moderate                           22\n",
       "            Unhealthy for Sensitive Groups      4\n",
       "2000-01-04  Good                              118\n",
       "            Moderate                           38\n",
       "            Unhealthy for Sensitive Groups      4\n",
       "2000-01-05  Good                              124\n",
       "            Moderate                           24\n",
       "            Unhealthy for Sensitive Groups     12\n",
       "2000-01-06  Good                              128\n",
       "            Moderate                           32\n",
       "            Unhealthy for Sensitive Groups      4\n",
       "2000-01-07  Good                              132\n",
       "            Moderate                           24\n",
       "            Unhealthy for Sensitive Groups     12\n",
       "2000-01-08  Good                              138\n",
       "            Moderate                           26\n",
       "            Unhealthy for Sensitive Groups      4\n",
       "2000-01-09  Good                              128\n",
       "            Moderate                           30\n",
       "            Unhealthy for Sensitive Groups     10\n",
       "2000-01-10  Good                              124\n",
       "            Moderate                           38\n",
       "            Unhealthy for Sensitive Groups      6\n",
       "2000-01-11  Good                              118\n",
       "                                             ... \n",
       "2016-05-12  Moderate                            4\n",
       "2016-05-13  Good                               28\n",
       "2016-05-14  Good                               28\n",
       "2016-05-15  Good                               28\n",
       "2016-05-16  Good                               28\n",
       "2016-05-17  Good                               28\n",
       "2016-05-18  Good                               28\n",
       "2016-05-19  Good                               12\n",
       "            Moderate                           16\n",
       "2016-05-20  Good                               20\n",
       "            Moderate                            8\n",
       "2016-05-21  Good                                8\n",
       "            Moderate                           20\n",
       "2016-05-22  Good                                8\n",
       "            Moderate                           20\n",
       "2016-05-23  Good                               16\n",
       "            Moderate                            8\n",
       "            Unhealthy for Sensitive Groups      4\n",
       "2016-05-24  Good                               12\n",
       "            Moderate                           16\n",
       "2016-05-25  Good                               20\n",
       "            Moderate                            8\n",
       "2016-05-26  Good                               20\n",
       "            Moderate                            8\n",
       "2016-05-27  Good                               24\n",
       "            Moderate                            4\n",
       "2016-05-28  Good                               28\n",
       "2016-05-29  Good                               28\n",
       "2016-05-30  Good                               28\n",
       "2016-05-31  Good                               28\n",
       "Name: EPA, Length: 14756, dtype: int64"
      ]
     },
     "execution_count": 30,
     "metadata": {},
     "output_type": "execute_result"
    }
   ],
   "source": [
    "df.groupby(['Date Local','EPA'])['EPA'].count()"
   ]
  },
  {
   "cell_type": "code",
   "execution_count": 31,
   "metadata": {},
   "outputs": [
    {
     "data": {
      "text/html": [
       "<div>\n",
       "<style scoped>\n",
       "    .dataframe tbody tr th:only-of-type {\n",
       "        vertical-align: middle;\n",
       "    }\n",
       "\n",
       "    .dataframe tbody tr th {\n",
       "        vertical-align: top;\n",
       "    }\n",
       "\n",
       "    .dataframe thead th {\n",
       "        text-align: right;\n",
       "    }\n",
       "</style>\n",
       "<table border=\"1\" class=\"dataframe\">\n",
       "  <thead>\n",
       "    <tr style=\"text-align: right;\">\n",
       "      <th></th>\n",
       "      <th>Unnamed: 0</th>\n",
       "      <th>State Code</th>\n",
       "      <th>County Code</th>\n",
       "      <th>Site Num</th>\n",
       "      <th>Address</th>\n",
       "      <th>State</th>\n",
       "      <th>County</th>\n",
       "      <th>City</th>\n",
       "      <th>Date Local</th>\n",
       "      <th>NO2 Units</th>\n",
       "      <th>...</th>\n",
       "      <th>SO2 1st Max Value</th>\n",
       "      <th>SO2 1st Max Hour</th>\n",
       "      <th>SO2 AQI</th>\n",
       "      <th>CO Units</th>\n",
       "      <th>CO Mean</th>\n",
       "      <th>CO 1st Max Value</th>\n",
       "      <th>CO 1st Max Hour</th>\n",
       "      <th>CO AQI</th>\n",
       "      <th>MAX_AQI</th>\n",
       "      <th>EPA</th>\n",
       "    </tr>\n",
       "  </thead>\n",
       "  <tbody>\n",
       "    <tr>\n",
       "      <th>0</th>\n",
       "      <td>0</td>\n",
       "      <td>4</td>\n",
       "      <td>13</td>\n",
       "      <td>3002</td>\n",
       "      <td>1645 E ROOSEVELT ST-CENTRAL PHOENIX STN</td>\n",
       "      <td>Arizona</td>\n",
       "      <td>Maricopa</td>\n",
       "      <td>Phoenix</td>\n",
       "      <td>2000-01-01</td>\n",
       "      <td>Parts per billion</td>\n",
       "      <td>...</td>\n",
       "      <td>9.0</td>\n",
       "      <td>21</td>\n",
       "      <td>13.0</td>\n",
       "      <td>Parts per million</td>\n",
       "      <td>1.145833</td>\n",
       "      <td>4.2</td>\n",
       "      <td>21</td>\n",
       "      <td>NaN</td>\n",
       "      <td>46.0</td>\n",
       "      <td>Good</td>\n",
       "    </tr>\n",
       "    <tr>\n",
       "      <th>1</th>\n",
       "      <td>1</td>\n",
       "      <td>4</td>\n",
       "      <td>13</td>\n",
       "      <td>3002</td>\n",
       "      <td>1645 E ROOSEVELT ST-CENTRAL PHOENIX STN</td>\n",
       "      <td>Arizona</td>\n",
       "      <td>Maricopa</td>\n",
       "      <td>Phoenix</td>\n",
       "      <td>2000-01-01</td>\n",
       "      <td>Parts per billion</td>\n",
       "      <td>...</td>\n",
       "      <td>9.0</td>\n",
       "      <td>21</td>\n",
       "      <td>13.0</td>\n",
       "      <td>Parts per million</td>\n",
       "      <td>0.878947</td>\n",
       "      <td>2.2</td>\n",
       "      <td>23</td>\n",
       "      <td>25.0</td>\n",
       "      <td>46.0</td>\n",
       "      <td>Good</td>\n",
       "    </tr>\n",
       "    <tr>\n",
       "      <th>2</th>\n",
       "      <td>2</td>\n",
       "      <td>4</td>\n",
       "      <td>13</td>\n",
       "      <td>3002</td>\n",
       "      <td>1645 E ROOSEVELT ST-CENTRAL PHOENIX STN</td>\n",
       "      <td>Arizona</td>\n",
       "      <td>Maricopa</td>\n",
       "      <td>Phoenix</td>\n",
       "      <td>2000-01-01</td>\n",
       "      <td>Parts per billion</td>\n",
       "      <td>...</td>\n",
       "      <td>6.6</td>\n",
       "      <td>23</td>\n",
       "      <td>NaN</td>\n",
       "      <td>Parts per million</td>\n",
       "      <td>1.145833</td>\n",
       "      <td>4.2</td>\n",
       "      <td>21</td>\n",
       "      <td>NaN</td>\n",
       "      <td>46.0</td>\n",
       "      <td>Good</td>\n",
       "    </tr>\n",
       "    <tr>\n",
       "      <th>3</th>\n",
       "      <td>3</td>\n",
       "      <td>4</td>\n",
       "      <td>13</td>\n",
       "      <td>3002</td>\n",
       "      <td>1645 E ROOSEVELT ST-CENTRAL PHOENIX STN</td>\n",
       "      <td>Arizona</td>\n",
       "      <td>Maricopa</td>\n",
       "      <td>Phoenix</td>\n",
       "      <td>2000-01-01</td>\n",
       "      <td>Parts per billion</td>\n",
       "      <td>...</td>\n",
       "      <td>6.6</td>\n",
       "      <td>23</td>\n",
       "      <td>NaN</td>\n",
       "      <td>Parts per million</td>\n",
       "      <td>0.878947</td>\n",
       "      <td>2.2</td>\n",
       "      <td>23</td>\n",
       "      <td>25.0</td>\n",
       "      <td>46.0</td>\n",
       "      <td>Good</td>\n",
       "    </tr>\n",
       "    <tr>\n",
       "      <th>4</th>\n",
       "      <td>4</td>\n",
       "      <td>4</td>\n",
       "      <td>13</td>\n",
       "      <td>3002</td>\n",
       "      <td>1645 E ROOSEVELT ST-CENTRAL PHOENIX STN</td>\n",
       "      <td>Arizona</td>\n",
       "      <td>Maricopa</td>\n",
       "      <td>Phoenix</td>\n",
       "      <td>2000-01-02</td>\n",
       "      <td>Parts per billion</td>\n",
       "      <td>...</td>\n",
       "      <td>3.0</td>\n",
       "      <td>22</td>\n",
       "      <td>4.0</td>\n",
       "      <td>Parts per million</td>\n",
       "      <td>0.850000</td>\n",
       "      <td>1.6</td>\n",
       "      <td>23</td>\n",
       "      <td>NaN</td>\n",
       "      <td>34.0</td>\n",
       "      <td>Good</td>\n",
       "    </tr>\n",
       "  </tbody>\n",
       "</table>\n",
       "<p>5 rows × 31 columns</p>\n",
       "</div>"
      ],
      "text/plain": [
       "   Unnamed: 0  State Code  County Code  Site Num  \\\n",
       "0           0           4           13      3002   \n",
       "1           1           4           13      3002   \n",
       "2           2           4           13      3002   \n",
       "3           3           4           13      3002   \n",
       "4           4           4           13      3002   \n",
       "\n",
       "                                   Address    State    County     City  \\\n",
       "0  1645 E ROOSEVELT ST-CENTRAL PHOENIX STN  Arizona  Maricopa  Phoenix   \n",
       "1  1645 E ROOSEVELT ST-CENTRAL PHOENIX STN  Arizona  Maricopa  Phoenix   \n",
       "2  1645 E ROOSEVELT ST-CENTRAL PHOENIX STN  Arizona  Maricopa  Phoenix   \n",
       "3  1645 E ROOSEVELT ST-CENTRAL PHOENIX STN  Arizona  Maricopa  Phoenix   \n",
       "4  1645 E ROOSEVELT ST-CENTRAL PHOENIX STN  Arizona  Maricopa  Phoenix   \n",
       "\n",
       "   Date Local          NO2 Units  ...   SO2 1st Max Value  SO2 1st Max Hour  \\\n",
       "0  2000-01-01  Parts per billion  ...                 9.0                21   \n",
       "1  2000-01-01  Parts per billion  ...                 9.0                21   \n",
       "2  2000-01-01  Parts per billion  ...                 6.6                23   \n",
       "3  2000-01-01  Parts per billion  ...                 6.6                23   \n",
       "4  2000-01-02  Parts per billion  ...                 3.0                22   \n",
       "\n",
       "   SO2 AQI           CO Units   CO Mean  CO 1st Max Value  CO 1st Max Hour  \\\n",
       "0     13.0  Parts per million  1.145833               4.2               21   \n",
       "1     13.0  Parts per million  0.878947               2.2               23   \n",
       "2      NaN  Parts per million  1.145833               4.2               21   \n",
       "3      NaN  Parts per million  0.878947               2.2               23   \n",
       "4      4.0  Parts per million  0.850000               1.6               23   \n",
       "\n",
       "   CO AQI  MAX_AQI   EPA  \n",
       "0     NaN     46.0  Good  \n",
       "1    25.0     46.0  Good  \n",
       "2     NaN     46.0  Good  \n",
       "3    25.0     46.0  Good  \n",
       "4     NaN     34.0  Good  \n",
       "\n",
       "[5 rows x 31 columns]"
      ]
     },
     "execution_count": 31,
     "metadata": {},
     "output_type": "execute_result"
    }
   ],
   "source": [
    "df.head()"
   ]
  },
  {
   "cell_type": "code",
   "execution_count": 32,
   "metadata": {},
   "outputs": [],
   "source": [
    "states = df['State'].values"
   ]
  },
  {
   "cell_type": "code",
   "execution_count": 33,
   "metadata": {},
   "outputs": [
    {
     "data": {
      "text/plain": [
       "array(['Arizona', 'Arizona', 'Arizona', ..., 'Wyoming', 'Wyoming',\n",
       "       'Wyoming'], dtype=object)"
      ]
     },
     "execution_count": 33,
     "metadata": {},
     "output_type": "execute_result"
    }
   ],
   "source": [
    "states"
   ]
  },
  {
   "cell_type": "code",
   "execution_count": 34,
   "metadata": {},
   "outputs": [],
   "source": [
    "states_set=set(states)"
   ]
  },
  {
   "cell_type": "code",
   "execution_count": 35,
   "metadata": {},
   "outputs": [
    {
     "data": {
      "text/plain": [
       "{'Alabama',\n",
       " 'Alaska',\n",
       " 'Arizona',\n",
       " 'Arkansas',\n",
       " 'California',\n",
       " 'Colorado',\n",
       " 'Connecticut',\n",
       " 'Country Of Mexico',\n",
       " 'Delaware',\n",
       " 'District Of Columbia',\n",
       " 'Florida',\n",
       " 'Georgia',\n",
       " 'Hawaii',\n",
       " 'Idaho',\n",
       " 'Illinois',\n",
       " 'Indiana',\n",
       " 'Iowa',\n",
       " 'Kansas',\n",
       " 'Kentucky',\n",
       " 'Louisiana',\n",
       " 'Maine',\n",
       " 'Maryland',\n",
       " 'Massachusetts',\n",
       " 'Michigan',\n",
       " 'Minnesota',\n",
       " 'Missouri',\n",
       " 'Nevada',\n",
       " 'New Hampshire',\n",
       " 'New Jersey',\n",
       " 'New Mexico',\n",
       " 'New York',\n",
       " 'North Carolina',\n",
       " 'North Dakota',\n",
       " 'Ohio',\n",
       " 'Oklahoma',\n",
       " 'Oregon',\n",
       " 'Pennsylvania',\n",
       " 'Rhode Island',\n",
       " 'South Carolina',\n",
       " 'South Dakota',\n",
       " 'Tennessee',\n",
       " 'Texas',\n",
       " 'Utah',\n",
       " 'Virginia',\n",
       " 'Washington',\n",
       " 'Wisconsin',\n",
       " 'Wyoming'}"
      ]
     },
     "execution_count": 35,
     "metadata": {},
     "output_type": "execute_result"
    }
   ],
   "source": [
    "states_set"
   ]
  },
  {
   "cell_type": "code",
   "execution_count": 36,
   "metadata": {},
   "outputs": [
    {
     "data": {
      "text/plain": [
       "47"
      ]
     },
     "execution_count": 36,
     "metadata": {},
     "output_type": "execute_result"
    }
   ],
   "source": [
    "len(states_set)"
   ]
  }
 ],
 "metadata": {
  "kernelspec": {
   "display_name": "Python 3",
   "language": "python",
   "name": "python3"
  },
  "language_info": {
   "codemirror_mode": {
    "name": "ipython",
    "version": 3
   },
   "file_extension": ".py",
   "mimetype": "text/x-python",
   "name": "python",
   "nbconvert_exporter": "python",
   "pygments_lexer": "ipython3",
   "version": "3.7.0"
  }
 },
 "nbformat": 4,
 "nbformat_minor": 2
}
